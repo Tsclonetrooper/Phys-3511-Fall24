{
 "cells": [
  {
   "cell_type": "code",
   "execution_count": 2,
   "metadata": {},
   "outputs": [
    {
     "name": "stdout",
     "output_type": "stream",
     "text": [
      "['who', 'Ya', 'gonna', 'call']\n"
     ]
    }
   ],
   "source": [
    "def concatinate():\n",
    "    list1 = ['wh','Y','gon','ca']\n",
    "    list2 = ['o','a','na','ll']\n",
    "    list3 = [list1[0] + list2[0],list1[1] + list2[1],list1[2] + list2[2],list1[3] + list2[3]]\n",
    "    print(list3)\n",
    "concatinate()"
   ]
  },
  {
   "cell_type": "code",
   "execution_count": 4,
   "metadata": {},
   "outputs": [
    {
     "name": "stdout",
     "output_type": "stream",
     "text": [
      "Current Number: 0, Previous Number: 0, Total Sum: 0\n",
      "Current Number: 1, Previous Number: 0, Total Sum: 1\n",
      "Current Number: 2, Previous Number: 1, Total Sum: 3\n",
      "Current Number: 3, Previous Number: 2, Total Sum: 5\n",
      "Current Number: 4, Previous Number: 3, Total Sum: 7\n",
      "Current Number: 5, Previous Number: 4, Total Sum: 9\n",
      "Current Number: 6, Previous Number: 5, Total Sum: 11\n",
      "Current Number: 7, Previous Number: 6, Total Sum: 13\n",
      "Current Number: 8, Previous Number: 7, Total Sum: 15\n",
      "Current Number: 9, Previous Number: 8, Total Sum: 17\n"
     ]
    }
   ],
   "source": [
    "def numbers():\n",
    "    previous_number = 0\n",
    "    sum = 0\n",
    "    for i in range(10):\n",
    "        #print(i)\n",
    "        \n",
    "        sum = previous_number + i\n",
    "        print('Current Number: {}, Previous Number: {}, Total Sum: {}'.format(i,previous_number,sum))\n",
    "        previous_number = i\n",
    "numbers()"
   ]
  },
  {
   "cell_type": "code",
   "execution_count": 5,
   "metadata": {},
   "outputs": [
    {
     "name": "stdout",
     "output_type": "stream",
     "text": [
      "4 is even\n"
     ]
    }
   ],
   "source": [
    "def is_odd():\n",
    "    #print(n)\n",
    "\n",
    "    n = int(input('Give me number: '))\n",
    "\n",
    "\n",
    "    if n == 0:\n",
    "        print('{} is Zero'.format(n))\n",
    "    elif n % 2 == 0:\n",
    "        print('{} is even'.format(n))\n",
    "    elif n % 2 != 0:\n",
    "        print('{} is odd'.format(n))\n",
    "    else:\n",
    "        print('error')\n",
    "is_odd()"
   ]
  },
  {
   "cell_type": "code",
   "execution_count": 6,
   "metadata": {},
   "outputs": [
    {
     "name": "stdout",
     "output_type": "stream",
     "text": [
      "0\n",
      "5\n",
      "10\n",
      "15\n"
     ]
    }
   ],
   "source": [
    "def tup():\n",
    "    tuple1 = (0, 5, 10, 15)\n",
    "    a = tuple1[0]\n",
    "    print(a)\n",
    "    b = tuple1[1]\n",
    "    print(b)\n",
    "    c = tuple1[2]\n",
    "    print(c)\n",
    "    d = tuple1[3]\n",
    "    print(d)\n",
    "tup()"
   ]
  }
 ],
 "metadata": {
  "kernelspec": {
   "display_name": "Python 3",
   "language": "python",
   "name": "python3"
  },
  "language_info": {
   "codemirror_mode": {
    "name": "ipython",
    "version": 3
   },
   "file_extension": ".py",
   "mimetype": "text/x-python",
   "name": "python",
   "nbconvert_exporter": "python",
   "pygments_lexer": "ipython3",
   "version": "3.12.1"
  }
 },
 "nbformat": 4,
 "nbformat_minor": 2
}
