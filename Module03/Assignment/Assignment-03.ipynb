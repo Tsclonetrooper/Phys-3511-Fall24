{
 "cells": [
  {
   "cell_type": "markdown",
   "id": "327cf88a",
   "metadata": {},
   "source": [
    "# Assignment 3 Due Tuesday 9/24\n",
    "\n",
    "Systems of masses and springs can be used as a simple model to describe molecules and lattices. Where the bonds that hold together the atoms are modeled as springs. \n",
    "\n",
    "To model a linear triatomic moelcule, such as CO$_2$, consider the system below where the oxygen and Carbon masses are denoted by $m_O$ and $m_C$, respectively. The bonds between the O and C atoms are modeled as identical springs having a sping constant $k$, where $x_1,\\; x_2,\\; x_3$ are the masses displacement from the springs equilibrium.\n",
    "\n",
    "<div>\n",
    "<img src=\"attachment:CO2-2.png\" width=\"400\"/>\n",
    "</div>"
   ]
  },
  {
   "cell_type": "markdown",
   "id": "6c22ca72",
   "metadata": {},
   "source": [
    "Following the example of the coupled oscillator we did in class, convince yourself that the equation of motion for this 3 mass and 2 spring system in given as:\n",
    "\n",
    "$$a_1 = -\\frac{k}{m_O}x_1 + \\frac{k}{m_O}x_2$$\n",
    "$$a_2 = \\frac{k}{m_C}x_1 -2\\frac{k}{m_C}x_2 + \\frac{k}{m_C}x_3$$\n",
    "$$a_3 = \\frac{k}{m_O}x_2 - \\frac{k}{m_O}x_3$$\n",
    "\n",
    "leading to the matrix equation:\n",
    "$$\n",
    "({\\bf{K}}-\\omega^2{\\bf{I_3}}){\\bf{A}} = 0,\n",
    "$$\n",
    "\n",
    "where\n",
    "$$\n",
    "{\\bf{K}} = \n",
    "\\begin{pmatrix}\n",
    "\\frac{k}{m_O}  & -\\frac{k}{m_O} & 0\\\\\n",
    "-\\frac{k}{m_C} & 2\\frac{k}{m_C} & -\\frac{k}{m_C}\\\\\n",
    "0              & -\\frac{k}{m_O} & \\frac{k}{m_O}\n",
    "\\end{pmatrix},\\;\\;\n",
    "{\\bf{I_3}} = \n",
    "\\begin{pmatrix}\n",
    "1 & 0 & 0\\\\\n",
    "0 & 1 & 0\\\\\n",
    "0 & 0 & 1\n",
    "\\end{pmatrix},\\;\\;\n",
    "{\\bf{A}} = \n",
    "\\begin{pmatrix}\n",
    "A_1\\\\\n",
    "A_2\\\\\n",
    "A_3\n",
    "\\end{pmatrix}\n",
    "$$\n"
   ]
  },
  {
   "cell_type": "markdown",
   "id": "fb0daddb",
   "metadata": {},
   "source": [
    "# Problem 1\n",
    "Define the ${\\bf{K}}$ matrix in python using the numpy library. Assume for now that \n",
    "$k = 1\\;N/m,\\;\\;m_p = 1\\;kg, \\;\\; m_C = 12m_p,\\;\\; m_O = 16m_p$,\n",
    "where $k$ is the spring constant (e.g. the strength of the bonds), $m_p$ is the proton mass, $m_C$ is the carbon mass (containing 12 protons), and $m_O$ is the oxygen mass (containing 16 protons). # Problem 1 \n",
    "Define the ${\\bf{K}}$ matrix in python using the numpy library. Assume that $k = m_O = 1$ and $m_C = \\frac{3}{4}m_O$."
   ]
  },
  {
   "cell_type": "code",
   "execution_count": 2,
   "id": "0b4b9cb9",
   "metadata": {},
   "outputs": [],
   "source": [
    "#import packages\n",
    "import numpy as np\n",
    "from scipy import integrate\n",
    "from scipy.integrate import odeint\n",
    "import matplotlib.pyplot as plt\n",
    "%matplotlib notebook\n",
    "%matplotlib inline"
   ]
  },
  {
   "cell_type": "code",
   "execution_count": 3,
   "id": "ea7c4b4a",
   "metadata": {},
   "outputs": [
    {
     "name": "stdout",
     "output_type": "stream",
     "text": [
      "[[ 1.         -1.          0.        ]\n",
      " [-1.33333333  2.66666667 -1.33333333]\n",
      " [ 0.         -1.          1.        ]]\n"
     ]
    }
   ],
   "source": [
    "k = 1 #N/m\n",
    "mp = 1 #kg\n",
    "mc = 12 * mp\n",
    "mo = 16 * mp\n",
    "\n",
    "mo = k\n",
    "mc = (3/4)*mo\n",
    "bigK = np.array([[k/mo,-k/mo,0],[-k/mc,2*k/mc,-k/mc],[0,-k/mo,k/mo]])\n",
    "print(bigK)\n",
    "\n"
   ]
  },
  {
   "cell_type": "markdown",
   "id": "368c3cd8",
   "metadata": {},
   "source": [
    "# Problem 2 \n",
    "Use the numpy linear algebra library to solve for the eigenvalues and eigenvectors.\n",
    "Note that this problem can be solved analytically, in which case you will find one of the eigenvalues being $0$. When evaluating this numerically with Numpy, you will not get a value of $0$, but rather a very small number (e.g. $\\sim10^{-18}$). This discrepency is due to the precision that Numpy is using to solve for the eigenvalues. It is important to remember that numerical solutions are approximate and you will need to assess what level of precision is needed for your particular problem. In our case we will manually set this term to 0."
   ]
  },
  {
   "cell_type": "code",
   "execution_count": 24,
   "id": "6687132a",
   "metadata": {},
   "outputs": [
    {
     "name": "stdout",
     "output_type": "stream",
     "text": [
      "[ 3.66666667e+00  1.00000000e+00 -4.64417791e-17]\n",
      "[[ 3.31294578e-01  7.07106781e-01  5.77350269e-01]\n",
      " [-8.83452209e-01 -6.27687654e-17  5.77350269e-01]\n",
      " [ 3.31294578e-01 -7.07106781e-01  5.77350269e-01]]\n",
      "[3.66666667 1.         0.        ]\n"
     ]
    },
    {
     "data": {
      "text/plain": [
       "(3,)"
      ]
     },
     "execution_count": 24,
     "metadata": {},
     "output_type": "execute_result"
    }
   ],
   "source": [
    "eigenvalues,eigenvectors = np.linalg.eig(bigK)\n",
    "print(eigenvalues)\n",
    "print(eigenvectors)\n",
    "eigenvalues[2] = 0\n",
    "print(eigenvalues)\n",
    "#eigenvectors.reshape(9,)\n",
    "eigenvalues.shape"
   ]
  },
  {
   "cell_type": "markdown",
   "id": "ee9a2dbe",
   "metadata": {},
   "source": [
    "# Problem 3 \n",
    "Plot of $x(t)$ vs. $t$ for the three masses for each of the three eigenvalues. You should be plotting each equation of\n",
    "$$ {\\bf{x_i}}(t) = {\\bf{v_i}}\\cos(\\omega_i t),$$\n",
    "\n",
    "where $i$ is the $i^{th}$ eigenvalue and ${\\bf{v_i}}$ is the eignevector assosiated with the $i^{th}$ eignevalue, $\\omega_i$, calculated by Numpy. \n",
    "\n",
    "For the time, create an array that has $100$ time points and spans from $0\\;s$ to $100\\;s$. "
   ]
  },
  {
   "cell_type": "markdown",
   "id": "5ce0b06d",
   "metadata": {},
   "source": [
    "### 3A) Eigenvalue 1:"
   ]
  },
  {
   "cell_type": "code",
   "execution_count": 1,
   "id": "d76949e0",
   "metadata": {},
   "outputs": [
    {
     "ename": "NameError",
     "evalue": "name 'np' is not defined",
     "output_type": "error",
     "traceback": [
      "\u001b[0;31m---------------------------------------------------------------------------\u001b[0m",
      "\u001b[0;31mNameError\u001b[0m                                 Traceback (most recent call last)",
      "Cell \u001b[0;32mIn[1], line 2\u001b[0m\n\u001b[1;32m      1\u001b[0m \u001b[38;5;66;03m#eigenvalue 1\u001b[39;00m\n\u001b[0;32m----> 2\u001b[0m t \u001b[38;5;241m=\u001b[39m \u001b[43mnp\u001b[49m\u001b[38;5;241m.\u001b[39mlinspace(\u001b[38;5;241m0\u001b[39m,\u001b[38;5;241m100\u001b[39m,\u001b[38;5;241m100\u001b[39m) \n\u001b[1;32m      4\u001b[0m \u001b[38;5;66;03m#x0 = eigenvectors[0] * np.cos(eigenvalues[0] * t)\u001b[39;00m\n\u001b[1;32m      5\u001b[0m \n\u001b[1;32m      6\u001b[0m \u001b[38;5;66;03m#fig = plt.figure('x vs t')\u001b[39;00m\n\u001b[1;32m      7\u001b[0m \u001b[38;5;66;03m#axes = fig.add_axes([0.2,0.2,0.8,0.8])\u001b[39;00m\n\u001b[1;32m      8\u001b[0m \u001b[38;5;66;03m#axes.plot(t,x,':g',label=r'$Scipy (RK45)$')\u001b[39;00m\n\u001b[1;32m      9\u001b[0m \u001b[38;5;66;03m#axes.set_title('X vs Y');\u001b[39;00m\n\u001b[1;32m     11\u001b[0m omega \u001b[38;5;241m=\u001b[39m np\u001b[38;5;241m.\u001b[39msqrt(np\u001b[38;5;241m.\u001b[39mabs(eigenvalues))\n",
      "\u001b[0;31mNameError\u001b[0m: name 'np' is not defined"
     ]
    }
   ],
   "source": [
    "#eigenvalue 1\n",
    "t = np.linspace(0,100,100) \n",
    "\n",
    "#x0 = eigenvectors[0] * np.cos(eigenvalues[0] * t)\n",
    "\n",
    "#fig = plt.figure('x vs t')\n",
    "#axes = fig.add_axes([0.2,0.2,0.8,0.8])\n",
    "#axes.plot(t,x,':g',label=r'$Scipy (RK45)$')\n",
    "#axes.set_title('X vs Y');\n",
    "\n",
    "omega = np.sqrt(np.abs(eigenvalues))\n",
    "#x1 = A[0,0]*cos(sqrt( w[0]) * t)\n",
    "positions = np.zeros((3, len(t)))  \n",
    "\n",
    "for i in range(3):\n",
    "   \n",
    "    v_i = eigenvectors[:, i].reshape(-1, ) \n",
    "    print(v_i.shape)\n",
    "    positions[i] = (v_i.flatten() * np.cos(omega[i] * t)).flatten()  \n",
    "\n",
    "plt.figure(figsize=(10, 6))\n",
    "\n",
    "for i in range(3):\n",
    "    plt.plot(t, positions[i], label=f'Mass {i + 1} (λ={eigenvalues[i]:.2f})')\n",
    "\n",
    "plt.title('Motion of Masses Over Time')\n",
    "plt.xlabel('Time (s)')\n",
    "plt.ylabel('Position x(t)')\n",
    "plt.legend()\n",
    "plt.grid()\n",
    "plt.show()\n"
   ]
  },
  {
   "cell_type": "markdown",
   "id": "23022721",
   "metadata": {},
   "source": [
    "One of the plots should look like (note $x_1$ and $x_3$ vs. $t$ are idendical):"
   ]
  },
  {
   "cell_type": "markdown",
   "id": "d3f7c2ba",
   "metadata": {},
   "source": [
    "<div>\n",
    "<img src=\"attachment:3A.png\" width=\"400\"/>\n",
    "</div>\n"
   ]
  },
  {
   "cell_type": "markdown",
   "id": "a6843a6e",
   "metadata": {},
   "source": [
    "### 3B) Eigenvalue 2:"
   ]
  },
  {
   "cell_type": "code",
   "execution_count": null,
   "id": "8a8ea0a6",
   "metadata": {},
   "outputs": [],
   "source": []
  },
  {
   "cell_type": "markdown",
   "id": "d7e82d9c",
   "metadata": {},
   "source": [
    "One of the plots should look like:"
   ]
  },
  {
   "cell_type": "markdown",
   "id": "158fe637",
   "metadata": {},
   "source": [
    "<div>\n",
    "<img src=\"attachment:3B.png\" width=\"400\"/>\n",
    "</div>"
   ]
  },
  {
   "cell_type": "markdown",
   "id": "ad8952d5",
   "metadata": {},
   "source": [
    "### 3C) Eigenvalue 3:"
   ]
  },
  {
   "cell_type": "code",
   "execution_count": null,
   "id": "210b0a3e",
   "metadata": {},
   "outputs": [],
   "source": []
  },
  {
   "cell_type": "markdown",
   "id": "5b005141",
   "metadata": {},
   "source": [
    "One of the plots should look like (note $x_1,\\; x_2,\\; x_3$ vs. $t$ are identical):"
   ]
  },
  {
   "cell_type": "markdown",
   "id": "0ded093f",
   "metadata": {},
   "source": [
    "<div>\n",
    "<img src=\"imgs/3C.png\" width=\"400\"/>\n",
    "</div>\n"
   ]
  },
  {
   "cell_type": "markdown",
   "id": "5d5d45e7",
   "metadata": {},
   "source": [
    "# Problem 4\n",
    "\n",
    "We can match the 3 normal modes plotted in Problem 3A) - 3C) the molecule motions shown below. "
   ]
  },
  {
   "cell_type": "markdown",
   "id": "71903429",
   "metadata": {},
   "source": [
    "### Problem 4A)\n",
    "Which egienvalue from Problem 3A, 3B, or 3C matches the motion shown below, where there are no oscillations?\n",
    "\n",
    "\n",
    "<div>\n",
    "<img src=\"attachment:CO2-no-osc.png\" width=\"400\"/>\n",
    "</div>\n",
    "\n"
   ]
  },
  {
   "cell_type": "markdown",
   "id": "969bbaa7",
   "metadata": {},
   "source": [
    "Type the problem number (3A, 3b, or 3C) that behaves like the image shown above:"
   ]
  },
  {
   "cell_type": "markdown",
   "id": "9a37662e",
   "metadata": {},
   "source": []
  },
  {
   "cell_type": "markdown",
   "id": "1e8bd5e9",
   "metadata": {},
   "source": [
    "### Problem 4B)\n",
    "Which egienvalue from Problem 3A, 3B, or 3C matches the motion shown below, where the two O atoms oscillate exactly out of phase with each other? \n",
    "\n",
    "<div>\n",
    "<img src=\"attachment:CO2-Sym-Osc.png\" width=\"400\"/>\n",
    "</div>\n"
   ]
  },
  {
   "cell_type": "markdown",
   "id": "84ccca97",
   "metadata": {},
   "source": [
    "Type the problem number (3A, 3b, or 3C) that behaves like the image shown above:"
   ]
  },
  {
   "cell_type": "code",
   "execution_count": null,
   "id": "2b2c7f79",
   "metadata": {},
   "outputs": [],
   "source": []
  },
  {
   "cell_type": "markdown",
   "id": "1b7d93f2",
   "metadata": {},
   "source": [
    "### Problem 4C)\n",
    "Which egienvalue from Problem 3A, 3B, or 3C matches the motion shown below, where the two O atoms oscillate in phase with each other, but the C atom is out of phase with the O atoms? \n",
    "\n",
    "<div>\n",
    "<img src=\"attachment:CO2-Asym-Osc.png\" width=\"400\"/>\n",
    "</div>"
   ]
  },
  {
   "cell_type": "markdown",
   "id": "03b2e671",
   "metadata": {},
   "source": [
    "Type the problem number (3A, 3b, or 3C) that behaves like the image shown above:"
   ]
  },
  {
   "cell_type": "markdown",
   "id": "a3899b4f",
   "metadata": {},
   "source": []
  },
  {
   "cell_type": "markdown",
   "id": "6988372e",
   "metadata": {},
   "source": [
    "# Problem 5\n",
    "\n",
    "From the problems above we are able to get an understanding of a CO$_2$ molecule linear vibration behavior. However if we really want to try and model a CO$_2$ molecule we will need to use more realistic values for the various quantities. Using quantities below recalulate the eigenvalues and eigenvectors of the CO$_2$ molecule.\n",
    "\n",
    "$$ k = 1400\\; N/m,\\;\\; m_p = 1.67\\times10^{-27}\\; kg, \\;\\; m_C = 12m_p, \\;\\; m_O = 16m_p$$\n",
    "\n",
    "In practice, $k$ can be extracted from the potential energy curve of the CO$_2$ molecule."
   ]
  },
  {
   "cell_type": "code",
   "execution_count": null,
   "id": "ad4ffdf6",
   "metadata": {},
   "outputs": [],
   "source": []
  },
  {
   "cell_type": "code",
   "execution_count": null,
   "id": "d3caed5f",
   "metadata": {},
   "outputs": [],
   "source": []
  },
  {
   "cell_type": "markdown",
   "id": "ec016e45",
   "metadata": {},
   "source": [
    "# Problem 6\n",
    "\n",
    "For these new eigenvalues, note that the smallest of the three, corresponds to the one that is analytically zero and found to be $\\sim10^{-18}$ in Problem 2. We will ignore this value for the rest of this problem set.\n",
    "\n",
    "Plot $x(t)$ vs. $t$ for the three masses for the **largest** of three eigenvalues. \n",
    "\n",
    "For the time, create an array that has $100$ time points and spans from $0\\;s$ to $0.5\\;s$."
   ]
  },
  {
   "cell_type": "code",
   "execution_count": null,
   "id": "e2288308",
   "metadata": {},
   "outputs": [],
   "source": []
  },
  {
   "cell_type": "markdown",
   "id": "8adedd1d",
   "metadata": {},
   "source": [
    "Your plot for Problem 6 should look like:\n",
    "\n",
    "<div>\n",
    "<img src=\"attachment:6.png\" width=\"400\"/>\n",
    "</div>"
   ]
  },
  {
   "cell_type": "markdown",
   "id": "830b9e86",
   "metadata": {},
   "source": [
    "# Problem 7\n",
    "\n",
    "Plot $x(t)$ vs. $t$ for the three masses for the eigenvalue that falls **between** the largest and smallest of the three eigenvalues.\n",
    "\n",
    "For the time, create an array that has $100$ time points and spans from $0\\;s$ to $0.1\\;s$. \n",
    "You will notice that there are oscillations contained within a larger oscilation envolope. These types of patterns are known as [beats](https://en.wikipedia.org/wiki/Beat_(acoustics))."
   ]
  },
  {
   "cell_type": "code",
   "execution_count": null,
   "id": "7d2627d8",
   "metadata": {},
   "outputs": [],
   "source": []
  },
  {
   "cell_type": "markdown",
   "id": "759c2bb8",
   "metadata": {},
   "source": [
    "Your plot for Problem 7 should look like:\n",
    "<div>\n",
    "<img src=\"attachment:7.png\" width=\"400\"/>\n",
    "</div>"
   ]
  },
  {
   "attachments": {
    "CO2_IR.png": {
     "image/png": "[encoded data removed]"
    }
   },
   "cell_type": "markdown",
   "id": "4ad58aef",
   "metadata": {},
   "source": [
    "# Problem 8\n",
    "\n",
    "When molecules vibrate they can change their net electric dipole moment (see 1062 notes). At particular vibration frequencies, the dipole moment is changed such that there is a strong interaction between light and matter, resulting in the molecule absorbing that light. This is the case with one of the linear frequency modes of CO$_2$. Below shows the infrared (IR) absorption spectrum of CO$_2$, taken from the [NIST web page](https://webbook.nist.gov/cgi/cbook.cgi?ID=C124389&Type=IR-SPEC&Index=1). The vertical axis shows the amount of absroption, and the horizontal axis shows the wavelength. The spikes show the amount of light absorbed by CO$_2$ and at what wavelength it was absorbed.\n",
    "\n",
    "![CO2_IR.png](attachment:CO2_IR.png)\n",
    "\n",
    "Let's use our model and see if it reproduces any of the absorption frequencies. Our eigenvalues we calculated are the normal frequencies for our CO$_2$ model, so to compare to the plot above we need to first convert them into wavelengths. This can be done using the relation (see 1062):\n",
    "\n",
    "$$\\lambda = 2\\pi\\frac{c}{\\omega},$$\n",
    "\n",
    "where $\\lambda$ is the wavelength, $c$ is the speed of light, and $\\omega$ is the angular frequency (e.g. our eigenvalues).\n",
    "\n",
    "Using $c = 3\\times10^8\\; m/s$ as the speed of light calculate the wavelengths corresponding to the two largest eigenvalues from Problem 5. Note, that the eigenvalues returned by the solver in Problem 5, are the angular frequency squared (e.g. $\\omega^2$), so don't forget to take its square root to obtain $\\omega$ and make sure your calculation is in $\\mu m$, for comparison to the IR plot."
   ]
  },
  {
   "cell_type": "code",
   "execution_count": null,
   "id": "2f44844b",
   "metadata": {},
   "outputs": [],
   "source": []
  },
  {
   "cell_type": "markdown",
   "id": "e78e40f8",
   "metadata": {},
   "source": [
    "# Problem 9\n",
    "\n",
    "Which eigenvalue corresponds to an absorption frequecy seen in the IR plot?"
   ]
  },
  {
   "cell_type": "code",
   "execution_count": null,
   "id": "04ab0c62",
   "metadata": {},
   "outputs": [],
   "source": []
  }
 ],
 "metadata": {
  "kernelspec": {
   "display_name": "Python 3 (ipykernel)",
   "language": "python",
   "name": "python3"
  },
  "language_info": {
   "codemirror_mode": {
    "name": "ipython",
    "version": 3
   },
   "file_extension": ".py",
   "mimetype": "text/x-python",
   "name": "python",
   "nbconvert_exporter": "python",
   "pygments_lexer": "ipython3",
   "version": "3.12.1"
  }
 },
 "nbformat": 4,
 "nbformat_minor": 5
}
