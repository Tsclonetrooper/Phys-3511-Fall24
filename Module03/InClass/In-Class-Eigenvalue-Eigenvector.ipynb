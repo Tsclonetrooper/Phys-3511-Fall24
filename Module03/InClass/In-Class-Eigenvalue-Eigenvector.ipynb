{
 "cells": [
  {
   "cell_type": "markdown",
   "id": "237d3de1",
   "metadata": {},
   "source": [
    "# Eigenvalues and Eigenvectors"
   ]
  },
  {
   "cell_type": "code",
   "execution_count": 1,
   "id": "07483e17",
   "metadata": {},
   "outputs": [],
   "source": [
    "#import the packages here\n",
    "import matplotlib.pyplot as plt\n",
    "from scipy import integrate\n",
    "import numpy as np\n",
    "%matplotlib notebook\n",
    "%matplotlib inline"
   ]
  },
  {
   "cell_type": "markdown",
   "id": "a7c18e77",
   "metadata": {},
   "source": [
    "\n",
    "$$\\vec{A} = \n",
    "\\begin{pmatrix}\n",
    " 11 &  -1 & 0\\\\\n",
    "-1 &  12 & -1\\\\\n",
    " 0 &  -1 & 11\n",
    "\\end{pmatrix}\n",
    "$$\n",
    "\n",
    "Find the eigenvalues and eigenvectors for the equation:\n",
    "\n",
    "$$(\\vec{A} - \\lambda\\vec{I})\\vec{v} = 0,$$\n",
    "where $\\vec{v}$ are the eigenvectors and $\\lambda$ is the eigenvalues"
   ]
  },
  {
   "cell_type": "code",
   "execution_count": 4,
   "id": "2b05781c",
   "metadata": {},
   "outputs": [
    {
     "data": {
      "text/plain": [
       "array([[11, -1,  0],\n",
       "       [-1, 12, -1],\n",
       "       [ 0, -1, 11]])"
      ]
     },
     "execution_count": 4,
     "metadata": {},
     "output_type": "execute_result"
    }
   ],
   "source": [
    "#define matrix\n",
    "a = np.array([[11,-1,0],[-1,12,-1],[0,-1,11]])\n",
    "a\n",
    "#oh the transpose At = A"
   ]
  },
  {
   "cell_type": "code",
   "execution_count": 9,
   "id": "c9094862",
   "metadata": {},
   "outputs": [
    {
     "name": "stdout",
     "output_type": "stream",
     "text": [
      "Eigenvalues: [13. 11. 10.]\n",
      "Eigenvectors:\n",
      "[[-4.08248290e-01 -7.07106781e-01  5.77350269e-01]\n",
      " [ 8.16496581e-01 -1.42827551e-15  5.77350269e-01]\n",
      " [-4.08248290e-01  7.07106781e-01  5.77350269e-01]]\n"
     ]
    }
   ],
   "source": [
    "#find eigenvaules and eigenvectors\n",
    "eigenvalues,eigenvectors = np.linalg.eig(a)\n",
    "print('Eigenvalues: {}'.format(eigenvalues))\n",
    "print('Eigenvectors:')\n",
    "print('{}'.format(eigenvectors))\n"
   ]
  }
 ],
 "metadata": {
  "kernelspec": {
   "display_name": "Python 3 (ipykernel)",
   "language": "python",
   "name": "python3"
  },
  "language_info": {
   "codemirror_mode": {
    "name": "ipython",
    "version": 3
   },
   "file_extension": ".py",
   "mimetype": "text/x-python",
   "name": "python",
   "nbconvert_exporter": "python",
   "pygments_lexer": "ipython3",
   "version": "3.12.1"
  }
 },
 "nbformat": 4,
 "nbformat_minor": 5
}
